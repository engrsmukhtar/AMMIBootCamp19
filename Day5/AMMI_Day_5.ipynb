{
  "nbformat": 4,
  "nbformat_minor": 0,
  "metadata": {
    "colab": {
      "name": "AMMI_Day_5.ipynb",
      "provenance": [],
      "collapsed_sections": [],
      "include_colab_link": true
    },
    "kernelspec": {
      "name": "python3",
      "display_name": "Python 3"
    }
  },
  "cells": [
    {
      "cell_type": "markdown",
      "metadata": {
        "id": "view-in-github",
        "colab_type": "text"
      },
      "source": [
        "<a href=\"https://colab.research.google.com/github/engrsmukhtar/AMMIBootCamp19/blob/master/Day5/AMMI_Day_5.ipynb\" target=\"_parent\"><img src=\"https://colab.research.google.com/assets/colab-badge.svg\" alt=\"Open In Colab\"/></a>"
      ]
    },
    {
      "cell_type": "markdown",
      "metadata": {
        "id": "z0OS8yDV7Zvp",
        "colab_type": "text"
      },
      "source": [
        "# AMMI Day 5"
      ]
    },
    {
      "cell_type": "markdown",
      "metadata": {
        "id": "264RJj2_7cU4",
        "colab_type": "text"
      },
      "source": [
        "## Morning Session\n",
        "### Bias, Variance, Regularization"
      ]
    },
    {
      "cell_type": "code",
      "metadata": {
        "id": "Y5ijLhr1YrJq",
        "colab_type": "code",
        "colab": {}
      },
      "source": [
        "import pandas as pd\n",
        "import numpy as np\n",
        "import math\n",
        "\n",
        "from scipy import stats\n",
        "\n",
        "import matplotlib.pyplot as plt\n",
        "import seaborn as sns\n",
        "\n",
        "%matplotlib inline\n",
        "\n",
        "# model selection\n",
        "from sklearn.model_selection import train_test_split\n",
        "from sklearn.model_selection import GridSearchCV\n",
        "\n",
        "# feature selection\n",
        "from sklearn.feature_selection import RFECV\n",
        "\n",
        "# pipeline\n",
        "from sklearn.pipeline import Pipeline\n",
        "\n",
        "# preprocessing\n",
        "from sklearn.preprocessing import MinMaxScaler\n",
        "from sklearn.preprocessing import StandardScaler\n",
        "from sklearn.preprocessing import PolynomialFeatures\n",
        "\n",
        "# metrics\n",
        "from sklearn.metrics import mean_squared_error\n",
        "from sklearn.metrics import accuracy_score\n",
        "\n",
        "# LinearRegression\n",
        "from sklearn.linear_model import LinearRegression\n",
        "from sklearn.linear_model import Ridge\n",
        "from sklearn.linear_model import Lasso\n",
        "\n",
        "# Neighbors\n",
        "from sklearn.neighbors import KNeighborsRegressor\n",
        "\n",
        "# Clustering\n",
        "from sklearn.cluster import KMeans\n",
        "from scipy.cluster.hierarchy import linkage, dendrogram, fcluster\n",
        "\n",
        "# t-SNE\n",
        "from sklearn.manifold import TSNE\n",
        "\n",
        "# PCA\n",
        "from sklearn.decomposition import PCA"
      ],
      "execution_count": 0,
      "outputs": []
    },
    {
      "cell_type": "code",
      "metadata": {
        "id": "WXgoJX_zZsUo",
        "colab_type": "code",
        "outputId": "e35237c1-d214-4081-9aa0-07e026a97084",
        "colab": {
          "base_uri": "https://localhost:8080/",
          "height": 55
        }
      },
      "source": [
        "from google.colab import drive\n",
        "drive.mount('/content/gdrive')"
      ],
      "execution_count": 0,
      "outputs": [
        {
          "output_type": "stream",
          "text": [
            "Drive already mounted at /content/gdrive; to attempt to forcibly remount, call drive.mount(\"/content/gdrive\", force_remount=True).\n"
          ],
          "name": "stdout"
        }
      ]
    },
    {
      "cell_type": "code",
      "metadata": {
        "id": "m9fJglm_Z-Xz",
        "colab_type": "code",
        "colab": {}
      },
      "source": [
        "train_df = pd.read_csv('/content/gdrive/My Drive/boston/train.csv', index_col='ID')\n",
        "test_df = pd.read_csv('/content/gdrive/My Drive/boston/test.csv', index_col='ID')"
      ],
      "execution_count": 0,
      "outputs": []
    },
    {
      "cell_type": "markdown",
      "metadata": {
        "id": "uoK1nJP3buEa",
        "colab_type": "text"
      },
      "source": [
        "Let's over-engineer a Linear Regression Model"
      ]
    },
    {
      "cell_type": "code",
      "metadata": {
        "id": "I20JaX2QbhRN",
        "colab_type": "code",
        "outputId": "88509495-1083-443f-8332-544b5dcc6bec",
        "colab": {
          "base_uri": "https://localhost:8080/",
          "height": 52
        }
      },
      "source": [
        "predictors = train_df[['nox', 'rm', 'chas', 'dis', 'ptratio', 'lstat', 'rad']]\n",
        "target = train_df['medv']\n",
        "steps = [\n",
        "    ('scaler', MinMaxScaler()),\n",
        "    ('poly', PolynomialFeatures(3))\n",
        "]\n",
        "X_train, X_test, y_train, y_test = train_test_split(predictors, target, test_size=0.3, random_state=40)\n",
        "columns = predictors.columns\n",
        "pipe = Pipeline(steps)\n",
        "pipe.fit(X_train, y_train)\n",
        "lr = LinearRegression()\n",
        "lr.fit(pipe.transform(X_train), y_train)\n",
        "print('Score: {}'.format(lr.score(pipe.transform(X_test), y_test)))\n",
        "print('MSE: {}'.format(mean_squared_error(y_test, lr.predict(pipe.transform(X_test)))))"
      ],
      "execution_count": 0,
      "outputs": [
        {
          "output_type": "stream",
          "text": [
            "Score: -0.028930654560475055\n",
            "MSE: 79.13575117043798\n"
          ],
          "name": "stdout"
        }
      ]
    },
    {
      "cell_type": "markdown",
      "metadata": {
        "id": "W8qS5NeeeDQS",
        "colab_type": "text"
      },
      "source": [
        "### Our loss was reducing, and our model quality was improving, so what went wrong?\n",
        "\n",
        "Let's create two models and compare the magnitude of coefficients"
      ]
    },
    {
      "cell_type": "code",
      "metadata": {
        "id": "tlHwgkZvKzbP",
        "colab_type": "code",
        "outputId": "58f43f09-efa6-4b91-c5f8-2e21f8d9312e",
        "colab": {
          "base_uri": "https://localhost:8080/",
          "height": 87
        }
      },
      "source": [
        "s1 = [\n",
        "    ('scaler', MinMaxScaler())\n",
        "]\n",
        "p = Pipeline(s1)\n",
        "p.fit(X_train, y_train)\n",
        "lr_linear = LinearRegression()\n",
        "lr_linear.fit(p.transform(X_train), y_train)\n",
        "print('Score: {}'.format(lr_linear.score(p.transform(X_test), y_test)))\n",
        "print('MSE: {}'.format(mean_squared_error(y_test, lr_linear.predict(p.transform(X_test)))))\n",
        "print(lr_linear.coef_)"
      ],
      "execution_count": 0,
      "outputs": [
        {
          "output_type": "stream",
          "text": [
            "Score: 0.6669016946829257\n",
            "MSE: 25.61881550329229\n",
            "[-11.55418765  21.13480639   3.24401229 -12.83713063  -8.46146441\n",
            " -19.45745781   2.49653134]\n"
          ],
          "name": "stdout"
        }
      ]
    },
    {
      "cell_type": "code",
      "metadata": {
        "id": "yLPFFWNhfweT",
        "colab_type": "code",
        "outputId": "a2935aa9-2675-4843-efad-445933b7e189",
        "colab": {
          "base_uri": "https://localhost:8080/",
          "height": 208
        }
      },
      "source": [
        "s2 = [\n",
        "    ('scaler', MinMaxScaler()),\n",
        "    ('poly', PolynomialFeatures(2))\n",
        "]\n",
        "p_2 = Pipeline(s2)\n",
        "p_2.fit(X_train, y_train)\n",
        "lr_quad = LinearRegression()\n",
        "lr_quad.fit(p_2.transform(X_train), y_train)\n",
        "print('Score: {}'.format(lr_quad.score(p_2.transform(X_test), y_test)))\n",
        "print('MSE: {}'.format(mean_squared_error(y_test, lr_quad.predict(p_2.transform(X_test)))))\n",
        "print(lr_quad.coef_)"
      ],
      "execution_count": 0,
      "outputs": [
        {
          "output_type": "stream",
          "text": [
            "Score: 0.7916122605636297\n",
            "MSE: 16.027241701775367\n",
            "[ 9.39383793e-12 -1.83073187e+01  1.17451512e+01 -1.53436999e+00\n",
            " -5.06272783e+01  1.90804330e+00 -3.91666061e+01  2.27296825e+01\n",
            "  2.90240854e+00  3.89982270e+00 -3.08711196e+00  1.48457410e+00\n",
            "  2.48816332e+00  5.02068601e+00 -1.73778407e+00  2.20144376e+01\n",
            " -6.87448266e-01  2.13829575e+01 -1.95852071e+01 -1.46458397e+01\n",
            " -1.35730814e+01 -1.53436999e+00  1.03922323e+01 -2.52208876e-01\n",
            "  9.51669952e+00  4.92584945e+00  1.99513584e+01  1.18277071e+01\n",
            "  4.70383707e+01 -2.87877274e+01 -7.62208542e-01 -4.36099692e+00\n",
            "  9.16827888e+00  3.94543022e+01 -3.79186155e+01 -2.90605465e+00]\n"
          ],
          "name": "stdout"
        }
      ]
    },
    {
      "cell_type": "markdown",
      "metadata": {
        "id": "PBhspnP6nQFV",
        "colab_type": "text"
      },
      "source": [
        "* Let's look at the coefficients of our cubic equation"
      ]
    },
    {
      "cell_type": "code",
      "metadata": {
        "id": "zM575vEbnUVo",
        "colab_type": "code",
        "outputId": "5ceffcf9-d7a9-446b-e4b7-13ffbdb1095f",
        "colab": {
          "base_uri": "https://localhost:8080/",
          "height": 537
        }
      },
      "source": [
        "print(lr.coef_)"
      ],
      "execution_count": 0,
      "outputs": [
        {
          "output_type": "stream",
          "text": [
            "[ 4.77784883e-10 -3.66909847e+02  2.28295889e+02  3.92195136e+00\n",
            " -3.57276990e+02 -9.15272735e+01  2.99157379e+02  8.62142575e+01\n",
            "  7.75126684e+01  4.46083246e+02 -9.26511068e+00  5.26499727e+02\n",
            "  2.55771160e+02 -3.62181247e+00  3.96989706e+02 -3.28873706e+02\n",
            " -3.95212670e+00  2.80582491e+02 -1.24547139e+02 -8.06305567e+02\n",
            " -2.06818852e+02  3.92195136e+00  4.35996484e+00 -5.47704441e+00\n",
            " -6.41055769e+00 -1.95480607e+01  3.77425871e+02  9.23231271e+01\n",
            "  1.50051360e+02  9.98394561e+01  1.98893101e+02 -3.54094345e+02\n",
            " -4.95656211e+01  1.90766684e+01 -3.02206780e+02 -1.30601883e+02\n",
            "  1.24567727e+01 -9.57239846e+01 -2.26245418e+01 -1.07737850e+02\n",
            " -1.41349529e+02  2.29299462e+02  1.77563354e+01 -6.64778553e+01\n",
            "  3.04944425e+01 -6.96566617e+02 -4.34665093e+01 -2.08874430e+02\n",
            " -1.28296637e+02 -9.26511068e+00  1.35254434e+01  2.99627119e+01\n",
            "  2.08058612e+01  5.44941667e+01 -7.22971594e+01 -8.99438188e+01\n",
            "  1.63595099e+02  6.38764848e+01 -3.60933245e+01  3.31197026e+02\n",
            " -8.00426838e+02 -3.58039146e+02 -1.70533738e+02  3.64056784e+02\n",
            "  1.42164797e+02 -1.68328823e+01  5.76488607e+01  1.21568487e+02\n",
            "  4.45086146e+02 -1.27363434e+02 -3.95212670e+00 -9.91970562e+00\n",
            "  5.43208394e+00 -7.79089150e+00  3.99315130e+01 -2.98109745e+02\n",
            " -4.76994980e+01  1.80750921e+02  1.00558222e+02 -1.09173435e+02\n",
            "  2.01119196e+02  5.47153420e+02  3.69885640e+02  6.05631537e+01\n",
            " -1.35509464e+02  3.92195136e+00  4.35996484e+00 -5.47704441e+00\n",
            " -6.41055769e+00 -1.95480607e+01 -1.15593933e+01  3.64941116e+01\n",
            " -5.29797357e+00  4.01169751e+01 -6.11267482e+00  3.29880721e+00\n",
            " -1.81864624e+01  2.06541109e+01  9.41923036e+00 -1.80622093e+01\n",
            " -1.79078622e+02  1.73924126e+02 -3.18890902e+02  1.39346712e+02\n",
            " -5.88624974e+01  2.71815648e+02 -8.46548635e+02 -4.15012667e+02\n",
            "  1.99723272e+02  4.14057486e+02 -7.18358458e+01  1.68192079e+01\n",
            "  1.06244374e+02 -1.81065834e+01  2.30469749e+02  9.29362888e+01\n",
            "  3.59102617e+01  1.49771359e+02 -2.06027182e+01 -6.76852471e+01]\n"
          ],
          "name": "stdout"
        }
      ]
    },
    {
      "cell_type": "markdown",
      "metadata": {
        "id": "QR5dQVUxnW96",
        "colab_type": "text"
      },
      "source": [
        "* We know that `lr_quad` is more complex than `lr_linear`\n",
        "* A more complex model is said to have high variance\n",
        "* A less complex model is said to high bias\n",
        "* The longer you train a model, the lower the bias and the higher the variance\n",
        "* What do we notice?\n",
        "* What can we do about our model?"
      ]
    },
    {
      "cell_type": "markdown",
      "metadata": {
        "id": "pB86B23CqkA8",
        "colab_type": "text"
      },
      "source": [
        "1. Get more data to increase model complexity during training\n",
        "2. Use n-fold cross-validation\n",
        "3. Simplify our model (Regularization) by reducing the variance"
      ]
    },
    {
      "cell_type": "markdown",
      "metadata": {
        "id": "4fSo8-WhsAMO",
        "colab_type": "text"
      },
      "source": [
        "### What is regularization?\n",
        "* Introducing a penalty to the cost function\n",
        "* Use Feature Elimination"
      ]
    },
    {
      "cell_type": "markdown",
      "metadata": {
        "id": "LNiQkyOcrOfi",
        "colab_type": "text"
      },
      "source": [
        "### L1 Regularization - Lasso Regression\n",
        "* Sets the coefficient of certain features to zero\n",
        "* Acts as a feature selection mechanism\n",
        "* Add a penalty based on size of coefficients (weights)\n",
        "* Sum of absolutes - L1 Norm $\\sum\\limits_{j=1}^{n}{\\left|w_{j}\\right| } $\n",
        "* Add a regularization term - $\\lambda$\n",
        "* High $\\lambda$ is high bias, low variance\n",
        "* Low $\\lambda$ is low bias, high variance"
      ]
    },
    {
      "cell_type": "code",
      "metadata": {
        "id": "Guat7w1xOtpZ",
        "colab_type": "code",
        "outputId": "e40f6410-cb22-4dd7-9248-7e6f3725ad04",
        "colab": {
          "base_uri": "https://localhost:8080/",
          "height": 399
        }
      },
      "source": [
        "from sklearn.linear_model import Lasso\n",
        "\n",
        "l_1 = Lasso(alpha = 0.9)\n",
        "l_1.fit(pipe.transform(X_train), y_train)\n",
        "print('Score: {}'.format(l_1.score(pipe.transform(X_test), y_test)))\n",
        "print('MSE: {}'.format(mean_squared_error(y_test, l_1.predict(pipe.transform(X_test)))))\n",
        "print(l_1.coef_)"
      ],
      "execution_count": 0,
      "outputs": [
        {
          "output_type": "stream",
          "text": [
            "Score: 0.38238347735192224\n",
            "MSE: 47.50130364801645\n",
            "[ 0.         -0.          0.          0.          0.         -0.\n",
            " -6.03320734 -0.         -0.         -0.          0.         -0.\n",
            " -0.         -0.         -0.          6.93903733  0.          0.\n",
            " -0.         -0.         -0.          0.          0.          0.\n",
            " -0.          0.          0.         -0.         -0.         -0.\n",
            " -0.         -0.         -0.         -0.         -0.         -0.\n",
            " -0.         -0.         -0.         -0.         -0.         -0.\n",
            " -0.          0.          0.          0.         -0.         -0.\n",
            " -0.          0.          0.          0.         -0.          0.\n",
            " -0.         -0.         -0.         -0.         -0.         -0.\n",
            " -0.         -0.         -0.         -0.          0.          0.\n",
            "  0.          0.         -0.          0.          0.          0.\n",
            "  0.          0.          0.          0.          0.         -0.\n",
            "  0.         -0.         -0.         -0.         -0.         -0.\n",
            " -0.          0.          0.          0.         -0.          0.\n",
            "  0.          0.          0.          0.          0.          0.\n",
            "  0.         -0.         -0.          0.          0.          0.\n",
            " -0.          0.         -0.         -0.         -0.         -0.\n",
            " -0.         -0.         -1.34865927 -0.         -0.         -0.\n",
            " -0.         -0.         -0.         -0.         -0.         -0.80193974]\n"
          ],
          "name": "stdout"
        }
      ]
    },
    {
      "cell_type": "code",
      "metadata": {
        "id": "xqqwtuBkPSMh",
        "colab_type": "code",
        "outputId": "49c5f546-0d1d-4c6b-e338-d2c544526922",
        "colab": {
          "base_uri": "https://localhost:8080/",
          "height": 572
        }
      },
      "source": [
        "l_2 = Lasso(alpha = 0.1)\n",
        "l_2.fit(pipe.transform(X_train), y_train)\n",
        "print('Score: {}'.format(l_2.score(pipe.transform(X_test), y_test)))\n",
        "print('MSE: {}'.format(mean_squared_error(y_test, l_2.predict(pipe.transform(X_test)))))\n",
        "print(l_2.coef_)"
      ],
      "execution_count": 0,
      "outputs": [
        {
          "output_type": "stream",
          "text": [
            "Score: 0.744984962825642\n",
            "MSE: 19.613378644229975\n",
            "[ 0.00000000e+00 -0.00000000e+00  0.00000000e+00  2.15990160e-15\n",
            " -1.13770924e+00 -1.77354639e+00 -1.81950740e+01  0.00000000e+00\n",
            " -1.21529197e+00 -0.00000000e+00  0.00000000e+00 -0.00000000e+00\n",
            " -0.00000000e+00 -0.00000000e+00 -0.00000000e+00  0.00000000e+00\n",
            "  0.00000000e+00 -0.00000000e+00 -0.00000000e+00 -0.00000000e+00\n",
            " -0.00000000e+00  8.38516402e-01  0.00000000e+00  0.00000000e+00\n",
            "  0.00000000e+00  0.00000000e+00 -0.00000000e+00 -0.00000000e+00\n",
            " -0.00000000e+00 -0.00000000e+00 -0.00000000e+00 -0.00000000e+00\n",
            " -0.00000000e+00  0.00000000e+00 -1.75239960e+00  0.00000000e+00\n",
            " -0.00000000e+00 -0.00000000e+00  0.00000000e+00 -0.00000000e+00\n",
            " -0.00000000e+00 -0.00000000e+00 -0.00000000e+00 -0.00000000e+00\n",
            "  0.00000000e+00 -0.00000000e+00 -0.00000000e+00 -0.00000000e+00\n",
            " -0.00000000e+00  0.00000000e+00  0.00000000e+00  0.00000000e+00\n",
            " -0.00000000e+00  0.00000000e+00 -0.00000000e+00 -0.00000000e+00\n",
            " -0.00000000e+00 -0.00000000e+00 -0.00000000e+00 -0.00000000e+00\n",
            " -0.00000000e+00 -0.00000000e+00 -0.00000000e+00 -0.00000000e+00\n",
            "  2.46492682e+01  0.00000000e+00  0.00000000e+00 -0.00000000e+00\n",
            " -0.00000000e+00 -0.00000000e+00  0.00000000e+00  0.00000000e+00\n",
            "  0.00000000e+00  0.00000000e+00  0.00000000e+00 -0.00000000e+00\n",
            " -0.00000000e+00 -0.00000000e+00 -0.00000000e+00 -3.77604988e+00\n",
            " -0.00000000e+00 -0.00000000e+00 -0.00000000e+00 -0.00000000e+00\n",
            " -0.00000000e+00  6.61180984e-02  0.00000000e+00  0.00000000e+00\n",
            "  0.00000000e+00  0.00000000e+00  0.00000000e+00  0.00000000e+00\n",
            "  0.00000000e+00  0.00000000e+00  0.00000000e+00  0.00000000e+00\n",
            "  0.00000000e+00 -0.00000000e+00  0.00000000e+00  0.00000000e+00\n",
            " -0.00000000e+00 -0.00000000e+00 -0.00000000e+00 -0.00000000e+00\n",
            " -0.00000000e+00 -0.00000000e+00 -0.00000000e+00 -0.00000000e+00\n",
            " -0.00000000e+00 -0.00000000e+00 -0.00000000e+00 -0.00000000e+00\n",
            " -0.00000000e+00  0.00000000e+00 -0.00000000e+00  0.00000000e+00\n",
            "  0.00000000e+00 -0.00000000e+00 -0.00000000e+00  0.00000000e+00]\n"
          ],
          "name": "stdout"
        }
      ]
    },
    {
      "cell_type": "markdown",
      "metadata": {
        "id": "MgZFRtgErhqU",
        "colab_type": "text"
      },
      "source": [
        "### L2 Regularization - Ridge Regression - Tikhonov Regularization\n",
        "* Forces the magnitude of coefficients close to zero\n",
        "* Add a penalty based on size of coefficients (weights)\n",
        "* Sum of squares - L2 Norm $\\sum\\limits_{j=1}^{n}{w_{j}^2} $\n",
        "* Add a regularization term - $\\lambda$\n",
        "* High $\\lambda$ is high bias, low variance\n",
        "* Low $\\lambda$ is low bias, high variance"
      ]
    },
    {
      "cell_type": "code",
      "metadata": {
        "id": "L6apx9b6H5rT",
        "colab_type": "code",
        "outputId": "5a2303f2-1608-47de-b79c-14b8765f2e71",
        "colab": {
          "base_uri": "https://localhost:8080/",
          "height": 572
        }
      },
      "source": [
        "from sklearn.linear_model import Ridge\n",
        "\n",
        "r_1 = Ridge(alpha = 0.9)\n",
        "r_1.fit(pipe.transform(X_train), y_train)\n",
        "print('Score: {}'.format(r_1.score(pipe.transform(X_test), y_test)))\n",
        "print('MSE: {}'.format(mean_squared_error(y_test, r_1.predict(pipe.transform(X_test)))))\n",
        "print(r_1.coef_)"
      ],
      "execution_count": 0,
      "outputs": [
        {
          "output_type": "stream",
          "text": [
            "Score: 0.829556195095051\n",
            "MSE: 13.108948084807944\n",
            "[ 0.00000000e+00 -1.23882360e+00  6.16950946e+00  3.98528623e-01\n",
            " -5.70677622e+00 -1.12725390e+00 -7.56979284e+00  3.15748981e+00\n",
            " -1.15514341e+00 -4.54744391e-01 -8.68895657e-01 -2.98225442e+00\n",
            " -1.76191901e+00 -3.47870647e+00  1.15335226e+00  1.13203534e+01\n",
            "  5.52361555e-02  2.32595476e-01 -2.75560845e+00 -6.01027139e+00\n",
            " -1.71120122e+00  3.98528623e-01  2.17345060e-01  1.87065824e-01\n",
            "  3.06899402e-02  9.26305778e-01 -2.21573704e-01 -2.33698107e+00\n",
            " -2.00784926e+00 -3.53754296e+00  6.76171669e-01 -3.50403322e+00\n",
            "  2.47785220e+00  2.86864260e+00 -6.92934494e+00  2.54006608e+00\n",
            " -1.17872148e+00 -8.04031060e-01 -5.13013462e-01 -1.39396170e+00\n",
            " -1.51599515e+00 -1.31969103e+00 -4.42708100e-01  1.45001597e+00\n",
            " -7.16475350e-01 -1.23901383e+00 -2.77482466e+00 -2.85097519e+00\n",
            " -1.18067298e+00 -8.68895657e-01 -5.18282742e-01 -1.60826946e-01\n",
            " -5.88913755e-02 -4.46203100e-02 -5.47355094e-01 -2.15401716e+00\n",
            " -8.45569319e-01 -1.70157016e+00 -9.56473223e-01 -2.69017320e+00\n",
            "  8.60687182e-01  1.06978711e+00 -3.56483261e+00  1.21858700e+00\n",
            "  1.26325049e+01 -2.11170525e-02  2.58406744e+00 -1.88021608e-01\n",
            " -3.22321684e+00 -7.81321524e-01  5.52361555e-02  2.16426688e-01\n",
            " -1.85583566e-01 -3.17678383e-01  9.68465708e-01  1.52548477e+00\n",
            " -6.92488095e-02 -1.10346937e+00 -1.46783645e+00 -3.37506525e+00\n",
            " -3.58448258e+00 -2.72072696e+00 -1.33642410e+00 -4.45755124e+00\n",
            " -3.35817132e+00  3.98528623e-01  2.17345060e-01  1.87065824e-01\n",
            "  3.06899402e-02  9.26305778e-01  4.60879570e-01 -6.68412726e-01\n",
            "  2.48318460e-03 -6.17534973e-01  6.91849650e-01 -2.82670259e-01\n",
            "  1.33541625e+00  4.05177723e-01 -6.69233271e-01  1.73381446e+00\n",
            "  8.40511257e-01  1.95948729e+00 -4.09754461e-01 -4.95333737e-02\n",
            " -9.41177231e-01 -2.24804960e-01 -2.89176155e+00  1.34553624e-01\n",
            " -1.14577802e+00 -3.84173411e+00  1.13657404e+00 -2.44534189e+00\n",
            "  2.59362983e+00  2.53318431e+00 -5.60255694e+00  2.27918462e+00\n",
            "  6.23564975e+00 -9.68060277e-01 -6.75158936e+00  2.50346195e+00]\n"
          ],
          "name": "stdout"
        }
      ]
    },
    {
      "cell_type": "code",
      "metadata": {
        "id": "wJkAXsxyJJdV",
        "colab_type": "code",
        "outputId": "25ab2c6c-6cb6-48f5-dc4b-b4a86f388030",
        "colab": {
          "base_uri": "https://localhost:8080/",
          "height": 572
        }
      },
      "source": [
        "\n",
        "r_2 = Ridge(alpha = 0.1)\n",
        "r_2.fit(pipe.transform(X_train), y_train)\n",
        "print('Score: {}'.format(r_2.score(pipe.transform(X_test), y_test)))\n",
        "print('MSE: {}'.format(mean_squared_error(y_test, r_2.predict(pipe.transform(X_test)))))\n",
        "print(r_2.coef_)"
      ],
      "execution_count": 0,
      "outputs": [
        {
          "output_type": "stream",
          "text": [
            "Score: 0.8309751293486335\n",
            "MSE: 12.99981689358429\n",
            "[ 0.00000000e+00 -3.00874786e+00  1.13041836e+01  5.76552188e-01\n",
            " -1.28952349e+01 -3.69396760e-01 -1.40590005e+01  6.91905042e+00\n",
            " -1.86054450e+00 -9.96790508e-01 -1.64384906e+00 -5.17314925e+00\n",
            " -1.65313546e+00 -6.05277129e+00  2.79153950e+00  1.53487022e+01\n",
            " -1.00612441e+00 -1.14460562e+00 -3.85133667e+00 -9.67965663e+00\n",
            " -1.92195947e+00  5.76552188e-01  1.70669096e+00  3.02256745e-01\n",
            "  1.75549039e+00 -1.88116705e-01  3.36396250e-01 -2.44565934e+00\n",
            "  2.39351816e+00 -5.89767619e+00  1.73358511e+00 -3.44344356e+00\n",
            "  4.46036892e+00  8.70008119e+00 -1.29755340e+01  1.69359842e+00\n",
            "  2.55106833e-01  7.00609933e-01  4.84634868e-01 -2.56716542e+00\n",
            " -3.86506665e+00  6.78008651e-01 -3.11770293e+00 -1.76443078e+00\n",
            " -5.88956308e-01 -3.95290350e+00 -3.59853475e-03 -2.22447080e+00\n",
            "  4.30184828e+00 -1.64384906e+00 -8.75316276e-01 -1.12217092e-01\n",
            " -6.20018227e-01 -5.87369540e-01  7.98891177e-01 -3.08983702e+00\n",
            "  1.88965698e+00 -2.31538962e+00  7.98545521e-01 -4.53708990e+00\n",
            "  2.50647045e+00  2.33937681e+00 -5.13996685e+00  2.63860627e+00\n",
            "  1.16499246e+01 -1.43752004e+00  2.91573685e+00 -5.49215135e+00\n",
            " -7.67041917e+00 -6.99991860e+00 -1.00612441e+00  5.10177739e-01\n",
            " -2.29512900e+00  4.03687115e-01  8.79597901e-01  5.18095832e+00\n",
            "  1.11206036e+00 -5.06863044e-01 -3.34218277e+00 -5.53116504e+00\n",
            "  2.33968814e+00 -3.25896409e+00  1.73839948e+00 -1.94749289e+00\n",
            " -5.00539243e+00  5.76552188e-01  1.70669096e+00  3.02256745e-01\n",
            "  1.75549039e+00 -1.88116705e-01  1.49584416e+00 -1.57272227e+00\n",
            "  9.49508195e-01 -2.05801207e+00  1.61447858e+00  1.36474669e+00\n",
            "  1.83735418e+00  4.91954509e-01 -1.01358004e+00  2.64615930e+00\n",
            " -1.15084052e+00  9.44338038e+00  3.48468479e-01  3.47737190e+00\n",
            " -6.80624216e-01  6.51472097e+00 -5.93944385e+00  5.15938653e+00\n",
            "  2.67141585e+00 -9.83623822e+00  8.27025775e-01 -5.62294991e+00\n",
            "  5.80744692e+00  4.91296141e+00 -1.00494424e+01  2.25229231e+00\n",
            "  1.10876597e+01  5.11415496e+00 -1.28904769e+01  2.51051826e+00]\n"
          ],
          "name": "stdout"
        }
      ]
    },
    {
      "cell_type": "markdown",
      "metadata": {
        "id": "RLCEZ8hu7rLr",
        "colab_type": "text"
      },
      "source": [
        "## Afternoon Session\n",
        "### Logistic Regression\n",
        "### More Scikit-Learn"
      ]
    },
    {
      "cell_type": "code",
      "metadata": {
        "id": "o3-emoB57UWI",
        "colab_type": "code",
        "colab": {}
      },
      "source": [
        ""
      ],
      "execution_count": 0,
      "outputs": []
    }
  ]
}